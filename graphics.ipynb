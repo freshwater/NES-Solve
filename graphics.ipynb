{
 "metadata": {
  "language_info": {
   "codemirror_mode": {
    "name": "ipython",
    "version": 3
   },
   "file_extension": ".py",
   "mimetype": "text/x-python",
   "name": "python",
   "nbconvert_exporter": "python",
   "pygments_lexer": "ipython3",
   "version": "3.9.0-final"
  },
  "orig_nbformat": 2,
  "kernelspec": {
   "name": "python3",
   "display_name": "Python 3",
   "language": "python"
  }
 },
 "nbformat": 4,
 "nbformat_minor": 2,
 "cells": [
  {
   "cell_type": "code",
   "execution_count": null,
   "metadata": {},
   "outputs": [],
   "source": [
    "import pickle\n",
    "from forward import *\n",
    "\n",
    "def display(data):\n",
    "    pickle.dump(data, open('../FORWARD/interface/data/active.pickle', 'wb'))"
   ]
  },
  {
   "cell_type": "code",
   "execution_count": null,
   "metadata": {},
   "outputs": [],
   "source": [
    "frames_red = np.fromfile('inspect/frames_red.data', dtype=np.uint8)\n",
    "frames_green = np.fromfile('inspect/frames_green.data', dtype=np.uint8)\n",
    "frames_blue = np.fromfile('inspect/frames_blue.data', dtype=np.uint8)\n",
    "\n",
    "frame = np.array([frames_red, frames_green, frames_blue]).T.reshape(240, 256, 3)\n",
    "\n",
    "plt.axis('off')\n",
    "plt.imshow(frame);\n",
    "\n",
    "display([Image(frame), Image(np.ones((1,1000)))])"
   ]
  },
  {
   "cell_type": "code",
   "execution_count": null,
   "metadata": {},
   "outputs": [],
   "source": [
    "(ppu_memory[0x3F00:0x3F1F],\n",
    "ppu_memory[0x3F20:0x3F2F])"
   ]
  },
  {
   "cell_type": "code",
   "execution_count": null,
   "metadata": {},
   "outputs": [],
   "source": [
    "import numpy as np\n",
    "\n",
    "import matplotlib.pyplot as plt\n",
    "%config InlineBackend.figure_format='retina'\n",
    "\n",
    "def combine(plane1, plane2):\n",
    "    plane1 = [int(c) for c in f'{plane1:08b}']\n",
    "    plane2 = [int(c) for c in f'{plane2:08b}']\n",
    "\n",
    "    return [n2*2 + n1*1 for n2, n1 in zip(plane2, plane1)]\n",
    "\n",
    "with open('inspect/ppu_memory.data', 'rb') as file:\n",
    "    ppu_memory = file.read()\n",
    "\n",
    "with open('inspect/oam.data', 'rb') as file:\n",
    "    oam_memory = file.read()\n",
    "\n",
    "ppu_memory = np.fromfile('inspect/ppu_memory.data', dtype=np.uint8)\n",
    "oam_memory = np.fromfile('inspect/oam.data', dtype=np.uint8)\n",
    "\n",
    "pattern_table0 = ppu_memory[0x0000:0x1000]\n",
    "pattern_table1 = ppu_memory[0x1000:0x2000]\n",
    "nametable0 = ppu_memory[0x2000:0x2000+960]\n",
    "attributes0 = ppu_memory[0x2000+960:0x2400]\n",
    "nametable1 = ppu_memory[0x2400:0x2400+960]\n",
    "nametable2 = ppu_memory[0x2800:0x2C00]\n",
    "nametable3 = ppu_memory[0x2C00:0x3000]\n",
    "\n",
    "palette_memory = ppu_memory[0x3F00:0x3F10]\n",
    "palette_memory\n",
    "\n",
    "oam_memory.reshape(-1, 4)"
   ]
  },
  {
   "cell_type": "code",
   "execution_count": null,
   "metadata": {},
   "outputs": [],
   "source": [
    "colors = [[84, 84, 84], [0, 30, 116], [8, 16, 144], [48, 0, 136], [68, 0, 100], [92, 0, 48], [84, 4, 0], [60, 24, 0], [32, 42, 0], [8, 58, 0], [0, 64, 0], [0, 60, 0], [0, 50, 60], [0, 0, 0], [0, 0, 0], [0, 0, 0],\n",
    "[152, 150, 152], [8, 76, 196], [48, 50, 236], [92, 30, 228], [136, 20, 176], [160, 20, 100], [152, 34, 32], [120, 60, 0], [84, 90, 0], [40, 114, 0], [8, 124, 0], [0, 118, 40], [0, 102, 120], [0, 0, 0],[0, 0, 0], [0, 0, 0],\n",
    "[236, 238, 236], [76, 154, 236], [120, 124, 236], [176, 98, 236], [228, 84, 236], [236, 88, 180], [236, 106, 100], [212, 136, 32], [160, 170, 0], [116, 196, 0], [76, 208, 32], [56, 204, 108], [56, 180, 204], [60, 60, 60],[0, 0, 0], [0, 0, 0],\n",
    "[236, 238, 236], [168, 204, 236], [188, 188, 236], [212, 178, 236], [236, 174, 236], [236, 174, 212], [236, 180, 176], [228, 196, 144], [204, 210, 120], [180, 222, 120], [168, 226, 144], [152, 226, 180], [160, 214, 228], [160, 162, 160], [0, 0, 0], [0, 0, 0]]\n",
    "\n",
    "np.array(colors);"
   ]
  },
  {
   "cell_type": "code",
   "execution_count": null,
   "metadata": {
    "tags": []
   },
   "outputs": [],
   "source": [
    "sprites = np.split(pattern_table1, 256)\n",
    "sprites = [[combine(a, b) for a, b in zip(sprite[:8], sprite[8:])]\n",
    "           for sprite in sprites]\n",
    "\n",
    "blocks = [sprites[id] for id in nametable0]\n",
    "\n",
    "arr = np.concatenate(np.split(np.concatenate(blocks, axis=1), 30, axis=1))\n",
    "\n",
    "arr2 = arr.copy()\n",
    "arr2 = np.stack([arr2, np.zeros(arr2.shape), np.zeros(arr2.shape)]).transpose(1, 2, 0)\n",
    "arr2 = arr2.astype(np.uint8)\n",
    "# print(arr2.shape)\n",
    "\n",
    "for i in range(arr2.shape[0]):\n",
    "    for j in range(arr2.shape[1]):\n",
    "        palette_index = arr2[i, j, 0]\n",
    "        code = attributes0.reshape(8, 8)[i // 32][j // 32];\n",
    "        bit1 = (i // 16) % 2\n",
    "        bit0 = (i // 16) % 2\n",
    "        bit_value = bit1*2 + bit0*1\n",
    "        shift = [0, 2, 4, 6][bit_value]\n",
    "        palette = (code >> shift) % 4\n",
    "\n",
    "        # palette = 0\n",
    "\n",
    "        color_index = palette_memory[palette*4 + palette_index]\n",
    "        # print(palette, palette_index, color_index)\n",
    "        color = colors[color_index]\n",
    "        arr2[i, j] = color\n",
    "\n",
    "plt.axis('off')\n",
    "plt.imshow(arr2);"
   ]
  },
  {
   "cell_type": "code",
   "execution_count": null,
   "metadata": {
    "tags": []
   },
   "outputs": [],
   "source": [
    "sprites = np.split(np.concatenate([pattern_table0, pattern_table1]), 512)\n",
    "sprites = [[combine(a, b) for a, b in zip(sprite[:8], sprite[8:])]\n",
    "           for sprite in sprites]\n",
    "\n",
    "arr = np.concatenate(np.split(np.concatenate(sprites, axis=1), 32, axis=1))\n",
    "arr = np.concatenate(arr.reshape(2, 128, 128), axis=1)\n",
    "\n",
    "plt.axis('off')\n",
    "plt.imshow(arr);"
   ]
  },
  {
   "cell_type": "code",
   "execution_count": null,
   "metadata": {},
   "outputs": [],
   "source": []
  }
 ]
}