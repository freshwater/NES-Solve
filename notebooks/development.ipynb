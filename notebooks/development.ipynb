{
 "cells": [
  {
   "cell_type": "code",
   "execution_count": null,
   "metadata": {},
   "outputs": [],
   "source": []
  },
  {
   "cell_type": "code",
   "execution_count": null,
   "metadata": {},
   "outputs": [],
   "source": [
    "import numpy as np\n",
    "\n",
    "def random_sequence(length):\n",
    "    A      = 0b1000_0000\n",
    "    B      = 0b0100_0000\n",
    "    Select = 0b0010_0000\n",
    "    Start  = 0b0001_0000\n",
    "    Up     = 0b0000_1000\n",
    "    Down   = 0b0000_0100\n",
    "    Left   = 0b0000_0010\n",
    "    Right  = 0b0000_0001\n",
    "    None_  = 0b0000_0000\n",
    "    \n",
    "    # buttons_OK = [None_, A, B, Up, Down, Left, Right, Start]\n",
    "    buttons_OK = [None_, A, B, Up, Down, Left, Right]\n",
    "    # buttons_OK = [       A,    Up,       Left, Right]\n",
    "    # buttons_OK = [None_, A, Left, Right, A | Left, A | Right]\n",
    "    # buttons_OK = [Right, A, None_]\n",
    "    \n",
    "    choice = np.random.choice\n",
    "    return choice(buttons_OK, length) | choice(buttons_OK, length)\n",
    "    \n",
    "    import scipy.stats as stats\n",
    "    dist = stats.binom(2, .05)\n",
    "    return np.array(buttons_OK)[dist.rvs(length)]\n",
    "    \n",
    "random_sequence(505);"
   ]
  },
  {
   "cell_type": "code",
   "execution_count": null,
   "metadata": {},
   "outputs": [],
   "source": [
    "import os\n",
    "def beep():\n",
    "    os.system(\"echo -n '\\a'\")"
   ]
  },
  {
   "cell_type": "code",
   "execution_count": null,
   "metadata": {},
   "outputs": [],
   "source": []
  },
  {
   "cell_type": "code",
   "execution_count": null,
   "metadata": {
    "scrolled": false
   },
   "outputs": [],
   "source": [
    "import NESSolve\n",
    "import numpy as np\n",
    "import matplotlib.pyplot as plt\n",
    "%config InlineBackend.figure_format='retina'\n",
    "\n",
    "k = 1\n",
    "num_instances = k*1024\n",
    "num_blocks = k*32\n",
    "\n",
    "base = ([0]*35 +\n",
    "        [0b0001_0000]*45)\n",
    "\n",
    "# actions = [base + list(random_sequence(60*1 + 15)) for _ in range(num_instances)]\n",
    "actions = [base + list(random_sequence(60*9 - 20)) for _ in range(num_instances)]\n",
    "# actions = [base + list(random_sequence(60*9 - 20 + 60*35)) for _ in range(num_instances)]\n",
    "\n",
    "actions = np.array(actions, dtype=np.uint8)\n",
    "print(actions.shape[1] / 60)\n",
    "print(actions, flush=True)\n",
    "\n",
    "# array = NESSolve.run(\"roms/Donkey Kong.nes\", actions, num_blocks)\n",
    "array = NESSolve.run(\"roms/Super Mario Bros..nes\", actions, num_blocks)\n",
    "# array = NESSolve.run(\"roms/01-basics.nes\", actions, num_blocks)\n",
    "array = array.reshape(240*256, num_instances).transpose().reshape(num_instances, 240, 256)\n",
    "\n",
    "beep();\n",
    "\n",
    "import pickle\n",
    "pickle.dump(array, open('active.pickle', 'wb'))\n",
    "\n",
    "plt.imshow(array[7], cmap='gray');"
   ]
  },
  {
   "cell_type": "code",
   "execution_count": null,
   "metadata": {},
   "outputs": [],
   "source": []
  }
 ],
 "metadata": {
  "kernelspec": {
   "display_name": "Python 3",
   "language": "python",
   "name": "python3"
  },
  "language_info": {
   "codemirror_mode": {
    "name": "ipython",
    "version": 3
   },
   "file_extension": ".py",
   "mimetype": "text/x-python",
   "name": "python",
   "nbconvert_exporter": "python",
   "pygments_lexer": "ipython3",
   "version": "3.7.6-final"
  }
 },
 "nbformat": 4,
 "nbformat_minor": 4
}