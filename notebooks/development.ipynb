{
 "cells": [
  {
   "cell_type": "code",
   "execution_count": null,
   "metadata": {},
   "outputs": [],
   "source": []
  },
  {
   "cell_type": "code",
   "execution_count": null,
   "metadata": {},
   "outputs": [],
   "source": [
    "class GenerationStrategy:\n",
    "    def __init__(self, p):\n",
    "        self.p = p\n",
    "        \n",
    "    def random_sequence(length):\n",
    "        all_ = [s for s in range(256) if not (s & (Select | Start))]\n",
    "        sequence = np.array(all_)[stats.randint(0, len(all_)).rvs(length)]\n",
    "        \n",
    "        return sequence\n",
    "\n",
    "class MixtureStrategy(GenerationStrategy):\n",
    "    def generate(pool):\n",
    "        num_instances, num_actions = pool.shape\n",
    "        \n",
    "        keys = stats.zipf(stats.uniform(1.01, 10).rvs(), -1).rvs(num_actions) % num_instances\n",
    "        keys = num_actions - 1 - keys\n",
    "        # keys = stats.randint(0, num_instances).rvs(num_actions)\n",
    "        mixture = np.array([pool[key, i] for i, key in enumerate(keys)])\n",
    "        \n",
    "        return mixture\n",
    "\n",
    "class UniformMutationStrategy(GenerationStrategy):\n",
    "    def generate(pool):\n",
    "        num_actions = pool.shape[1]\n",
    "        mutation = np.choose(stats.bernoulli(self.p).rvs(length),\n",
    "                             [self.random_sequence(num_actions),\n",
    "                              pool[pool_index]])\n",
    "        return mutation\n",
    "    \n",
    "class SequentialMutationStrategy(GenerationStrategy):\n",
    "    def generate(pool):\n",
    "        num_actions = pool.shape[1]\n",
    "        \n",
    "        pool_index = stats.randint(0, len(pool)).rvs()\n",
    "        \n",
    "        choices = np.cumsum(stats.bernoulli(self.p).rvs(num_actions)) % 2\n",
    "        mutation = np.choose(choices,\n",
    "                             [self.random_sequence(num_actions),\n",
    "                              pool[pool_index]])\n",
    "        \n",
    "        return mutation\n",
    "\n",
    "class SequentialMixtureStrategy(GenerationStrategy):\n",
    "    def generate(pool):\n",
    "        num_actions = pool.shape[1]\n",
    "        \n",
    "        pool_indices = stats.randint(0, len(pool)).rvs(2)\n",
    "        \n",
    "        choices = np.cumsum(stats.bernoulli(self.p).rvs(num_actions)) % 2\n",
    "        mutation = np.choose(choices,\n",
    "                             pool[pool_indices])"
   ]
  },
  {
   "cell_type": "code",
   "execution_count": null,
   "metadata": {},
   "outputs": [],
   "source": [
    "import NESSolve\n",
    "import numpy as np\n",
    "import scipy.stats as stats\n",
    "import matplotlib.pyplot as plt\n",
    "%config InlineBackend.figure_format='retina'\n",
    "\n",
    "A      = 0b1000_0000\n",
    "B      = 0b0100_0000\n",
    "Select = 0b0010_0000\n",
    "Start  = 0b0001_0000\n",
    "Up     = 0b0000_1000\n",
    "Down   = 0b0000_0100\n",
    "Left   = 0b0000_0010\n",
    "Right  = 0b0000_0001\n",
    "None_  = 0b0000_0000\n",
    "\n",
    "def random_sequence(length, pool, p):\n",
    "    all_ = [s for s in range(256) if not (s & (Select | Start))]\n",
    "    sequence = np.array(all_)[stats.randint(0, len(all_)).rvs(length)]\n",
    "\n",
    "    if pool == []:\n",
    "        return sequence\n",
    "    else:\n",
    "        pool_index = stats.randint(0, len(pool)).rvs()\n",
    "        actions_ = np.array(pool)\n",
    "\n",
    "        keys = stats.randint(0, actions_.shape[0]).rvs(actions_.shape[1])\n",
    "        mixture = [actions_[key, i] for i, key in enumerate(keys)]\n",
    "        \n",
    "        if stats.bernoulli(p).rvs(1)[0]:\n",
    "            return mixture\n",
    "        else:\n",
    "            return sequence\n",
    "        \n",
    "        return np.choose(stats.bernoulli(p).rvs(length),\n",
    "                         [sequence,\n",
    "                          pool[pool_index]])\n",
    "    \n",
    "def frame_skip(sequence, n):\n",
    "    return sum([[action]*n for action in sequence], [])\n",
    "    \n",
    "random_sequence(length=505, pool=[], p=0.5);"
   ]
  },
  {
   "cell_type": "code",
   "execution_count": null,
   "metadata": {},
   "outputs": [],
   "source": [
    "import os\n",
    "def beep():\n",
    "    os.system(\"echo -n '\\a'\")"
   ]
  },
  {
   "cell_type": "code",
   "execution_count": null,
   "metadata": {},
   "outputs": [],
   "source": [
    "def iteration(length, pool, p):\n",
    "    k = 2\n",
    "    sec = 60\n",
    "    num_instances = k*1024\n",
    "    num_blocks = k*32\n",
    "\n",
    "    start_sequences = np.array([[None_]*35 +\n",
    "                                [Start]*45 +\n",
    "                                [None_]*40]*num_instances, dtype=np.uint8)\n",
    "    \n",
    "    actions = np.array([random_sequence(length, [actions_ for actions_, score in pool], p=p)\n",
    "                        for _ in range(num_instances)], dtype=np.uint8)\n",
    "    \n",
    "    full_sequences = np.concatenate([start_sequences,\n",
    "                                     actions], axis=1)\n",
    "    \n",
    "    if pool == []:\n",
    "        print(full_sequences.shape[1] / 60)\n",
    "        print(full_sequences, flush=True)\n",
    "        \n",
    "    data_lines, red, green, blue = NESSolve.run(\"roms/Super Mario Bros..nes\", full_sequences, num_blocks)\n",
    "    \n",
    "    block_scores = data_lines.reshape(-1, k*1024).transpose()\n",
    "    actions_scores = [(action_sequence, len(np.unique(score))) for action_sequence, score in zip(actions, block_scores)]\n",
    "    \n",
    "    return actions_scores\n",
    "\n",
    "# pool = []\n",
    "for i in range(0):\n",
    "    print(i)\n",
    "    actions_scores = iteration(60*2, pool, .8)\n",
    "    pool = sorted(pool + actions_scores, key=lambda x: x[1])\n",
    "    pool = pool[-2*1024:]\n",
    "    scores = [score for _, score in pool]\n",
    "    print(min(scores), scores[-10:])\n",
    "    \n",
    "beep()"
   ]
  },
  {
   "cell_type": "code",
   "execution_count": null,
   "metadata": {},
   "outputs": [],
   "source": [
    "import pickle\n",
    "pool = pickle.load(open('loop.pickle', 'rb'))"
   ]
  },
  {
   "cell_type": "code",
   "execution_count": null,
   "metadata": {},
   "outputs": [],
   "source": [
    "import pickle\n",
    "pickle.dump(pool, open('loop.pickle', 'wb'))"
   ]
  },
  {
   "cell_type": "code",
   "execution_count": null,
   "metadata": {},
   "outputs": [],
   "source": [
    "for i in range(100):\n",
    "    print(i)\n",
    "    actions_scores = iteration(60*10, pool, .7)\n",
    "    pool = sorted(pool + actions_scores, key=lambda x: x[1])\n",
    "    pool = pool[-2*1024:]\n",
    "    scores = [score for _, score in pool]\n",
    "    print(min(scores), scores[-10:]) \n",
    "    \n",
    "    import pickle\n",
    "    pickle.dump(pool, open('loop.pickle', 'wb'))"
   ]
  },
  {
   "cell_type": "code",
   "execution_count": null,
   "metadata": {
    "scrolled": false
   },
   "outputs": [],
   "source": [
    "# %%time\n",
    "\n",
    "k = 1\n",
    "sec = 60\n",
    "num_instances = k*1024\n",
    "num_blocks = k*32\n",
    "\n",
    "base = ([None_]*35 +\n",
    "        [Start]*45 +\n",
    "        [None_]*40)\n",
    "\n",
    "actions = [base + list(random_sequence(60*30, [], 0)) for _ in range(num_instances)]\n",
    "actions = [base + list(sequence) for sequence, score in pool[-1024:]]\n",
    "actions = np.array(actions, dtype=np.uint8)\n",
    "print(actions.shape[1] / 60)\n",
    "print(actions, flush=True)\n",
    "\n",
    "# data_lines, red, green, blue = NESSolve.run(\"roms/Donkey Kong.nes\", actions, num_blocks)\n",
    "# red, green, blue = NESSolve.run(\"roms/digdug.nes\", actions, num_blocks)\n",
    "data_lines, red, green, blue = NESSolve.run(\"roms/Super Mario Bros..nes\", actions, num_blocks)\n",
    "# red, green, blue = NESSolve.run(\"roms/Spelunker (USA).nes\", actions, num_blocks)\n",
    "# array = NESSolve.run(\"roms/01-basics.nes\", actions, num_blocks)\n",
    "\n",
    "reds = red.reshape(240*256, num_instances).transpose().reshape(num_instances, 240, 256)\n",
    "greens = green.reshape(240*256, num_instances).transpose().reshape(num_instances, 240, 256)\n",
    "blues = blue.reshape(240*256, num_instances).transpose().reshape(num_instances, 240, 256)\n",
    "\n",
    "beep();\n",
    "\n",
    "a = np.array([reds, greens, blues])\n",
    "print(a.shape)\n",
    "image = a.transpose(1, 2, 3, 0)[22]\n",
    "plt.imshow(image);"
   ]
  },
  {
   "cell_type": "code",
   "execution_count": null,
   "metadata": {},
   "outputs": [],
   "source": []
  },
  {
   "cell_type": "code",
   "execution_count": null,
   "metadata": {},
   "outputs": [],
   "source": [
    "%%time\n",
    "\n",
    "data = data_lines.reshape(-1, k*1024).transpose()\n",
    "print(data.shape)\n",
    "\n",
    "arr = [(index, len(np.unique(instance))) for index, instance in enumerate(data)]\n",
    "\n",
    "sorted_ = sorted(arr, key=lambda x: x[1])\n",
    "\n",
    "# sorted_ = sorted_[:50] + sorted_[-400:]\n",
    "sorted_keys = [index for index, score in sorted_]\n",
    "sorted_scores = [score for index, score in sorted_]\n",
    "array_sorted = np.array([reds[sorted_keys], greens[sorted_keys], blues[sorted_keys]])\n",
    "sorted_"
   ]
  },
  {
   "cell_type": "code",
   "execution_count": null,
   "metadata": {},
   "outputs": [],
   "source": [
    "import pickle\n",
    "pickle.dump([array_sorted, sorted_scores], open('active.pickle', 'wb'))"
   ]
  },
  {
   "cell_type": "code",
   "execution_count": null,
   "metadata": {},
   "outputs": [],
   "source": [
    "beep()"
   ]
  },
  {
   "cell_type": "code",
   "execution_count": null,
   "metadata": {},
   "outputs": [],
   "source": []
  },
  {
   "cell_type": "code",
   "execution_count": null,
   "metadata": {},
   "outputs": [],
   "source": []
  },
  {
   "cell_type": "code",
   "execution_count": null,
   "metadata": {},
   "outputs": [],
   "source": []
  },
  {
   "cell_type": "code",
   "execution_count": null,
   "metadata": {},
   "outputs": [],
   "source": []
  }
 ],
 "metadata": {
  "kernelspec": {
   "display_name": "Python 3",
   "language": "python",
   "name": "python3"
  },
  "language_info": {
   "codemirror_mode": {
    "name": "ipython",
    "version": 3
   },
   "file_extension": ".py",
   "mimetype": "text/x-python",
   "name": "python",
   "nbconvert_exporter": "python",
   "pygments_lexer": "ipython3",
   "version": "3.7.6"
  }
 },
 "nbformat": 4,
 "nbformat_minor": 4
}