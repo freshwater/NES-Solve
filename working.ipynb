{
 "metadata": {
  "language_info": {
   "codemirror_mode": {
    "name": "ipython",
    "version": 3
   },
   "file_extension": ".py",
   "mimetype": "text/x-python",
   "name": "python",
   "nbconvert_exporter": "python",
   "pygments_lexer": "ipython3",
   "version": "3.7.7-final"
  },
  "orig_nbformat": 2,
  "kernelspec": {
   "name": "python37764bitz1condae7f2c20f305643b296aa656a2776ff29",
   "display_name": "Python 3.7.7 64-bit ('z1': conda)"
  }
 },
 "nbformat": 4,
 "nbformat_minor": 2,
 "cells": [
  {
   "cell_type": "code",
   "execution_count": null,
   "metadata": {},
   "outputs": [],
   "source": []
  },
  {
   "cell_type": "code",
   "execution_count": null,
   "metadata": {},
   "outputs": [],
   "source": []
  },
  {
   "cell_type": "code",
   "execution_count": null,
   "metadata": {},
   "outputs": [],
   "source": []
  },
  {
   "cell_type": "code",
   "execution_count": null,
   "metadata": {},
   "outputs": [],
   "source": []
  },
  {
   "cell_type": "code",
   "execution_count": 2,
   "metadata": {},
   "outputs": [
    {
     "output_type": "execute_result",
     "data": {
      "text/plain": [
       "tensor([11, 10, 12, 13], dtype=torch.uint8)"
      ]
     },
     "metadata": {},
     "execution_count": 2
    }
   ],
   "source": [
    "import torch\n",
    "\n",
    "t = torch.tensor(range(4), dtype=torch.uint8) + 10\n",
    "z = torch.tensor([[0, 1, 0, 0],\n",
    "                  [1, 0, 0, 0],\n",
    "                  [0, 0, 1, 0],\n",
    "                  [0, 0, 0, 1]], dtype=torch.uint8)\n",
    "\n",
    "t @ z"
   ]
  },
  {
   "cell_type": "code",
   "execution_count": 3,
   "metadata": {},
   "outputs": [],
   "source": [
    "import json\n",
    "import torch\n",
    "import numpy as np\n",
    "\n",
    "with open('data/g.json', 'rb') as file:\n",
    "    data = json.loads(file.read())\n",
    "\n",
    "program_data = torch.tensor(data['Program'], dtype=torch.uint8)\n",
    "character_data = torch.tensor(data['Character'], dtype=torch.uint8)\n",
    "\n",
    "program_data = np.array(data['Program'])"
   ]
  },
  {
   "cell_type": "code",
   "execution_count": 4,
   "metadata": {},
   "outputs": [],
   "source": [
    "def SEI(state, a, b): state['StatusRegister']['Interrupt'] = 1\n",
    "def CLD(state, a, b): state['StatusRegister']['Decimal'] = 0\n",
    "\n",
    "def Z_set(value):\n",
    "    state['StatusRegister']['Zero'] = 1*(value == 0)\n",
    "\n",
    "def N_set(value):\n",
    "    state['StatusRegister']['Negative'] = 1*(value & 0x80 == 0x80)\n",
    "\n",
    "def LDA(state, a, b): state['Accumulator'] = a; Z_set(a); N_set(a)\n",
    "def LDX(state, a, b): state['X'] = a;           Z_set(a); N_set(a)\n",
    "def LDY(state, a, b): state['Y'] = a;           Z_set(a); N_set(a)\n",
    "def DEX(state, a, b): state['X'] -= 1;          Z_set(state['X']); N_set(state['X'])\n",
    "\n",
    "def CMP(state, a, b):\n",
    "    result = state['Accumulator'] - a\n",
    "    Z_set(result); N_set(result)\n",
    "    if a <= state['Accumulator']:\n",
    "        state['StatusRegister']['Carry'] = 1\n",
    "    else:\n",
    "        state['StatusRegister']['Carry'] = 0\n",
    "\n",
    "def STA(state, a, b): state['Memory'][a] = state['Accumulator']\n",
    "def TXS(state, a, b): state['StackRegister'] = state['X']\n",
    "\n",
    "def BPL(state, a, b):\n",
    "    if state['StatusRegister']['Negative'] == 0:\n",
    "        state['ProgramCounter'] += np.int8(a)\n",
    "\n",
    "def BCS(state, a, b):\n",
    "    if state['StatusRegister']['Carry'] == 1:\n",
    "        state['ProgramCounter'] += np.int8(a)\n",
    "\n",
    "def BNE(state, a, b):\n",
    "    if state['StatusRegister']['Zero'] == 0:\n",
    "        state['ProgramCounter'] += np.int8(a)\n",
    "\n",
    "def JSR(state, a, b):\n",
    "    pass\n",
    "\n",
    "def imm(state, data):\n",
    "    return data\n",
    "\n",
    "def abs_read(state, data1, data2):\n",
    "    print(f'{data2*256 + data1:04x} -> {state[\"Memory\"][data2*0x0100 + data1]}')\n",
    "\n",
    "    return state['Memory'][data2*0x0100 + data1]\n",
    "\n",
    "def abs_x_read(state, data1, data2):\n",
    "    x = state['X']\n",
    "    print(f'{data2*256 + data1:04x} + {x:02x} -> {state[\"Memory\"][data2*0x0100 + data1 + x]}')\n",
    "\n",
    "    return state['Memory'][data2*0x0100 + data1 + x]\n"
   ]
  },
  {
   "cell_type": "code",
   "execution_count": 5,
   "metadata": {},
   "outputs": [],
   "source": [
    "\n",
    "_ = lambda x: x\n",
    "\n",
    "instructions = {\n",
    "    0x00: [\"BRK\", [\"imp\"]],\n",
    "    0x01: [\"ORA\", [\"X\", \"ind\"]],\n",
    "    0x10: [BPL, imm],\n",
    "    0x20: [JSR, abs_read, _],\n",
    "    0x78: [SEI],\n",
    "    0x8D: [STA, abs_read, _],\n",
    "    0x9A: [TXS],\n",
    "    0xA0: [LDY, imm],\n",
    "    0xA2: [LDX, imm],\n",
    "    0xA9: [LDA, imm],\n",
    "    0xAD: [LDA, abs_read, _],\n",
    "    0xB0: [BCS, imm],\n",
    "    0xBD: [LDA, abs_x_read, _],\n",
    "    0xC9: [CMP, imm],\n",
    "    0xCA: [DEX],\n",
    "    0xD0: [BNE, imm],\n",
    "    0xD8: [CLD]\n",
    "}"
   ]
  },
  {
   "cell_type": "code",
   "execution_count": 6,
   "metadata": {},
   "outputs": [
    {
     "output_type": "stream",
     "name": "stdout",
     "text": [
      "2000 -> 0\n2002 -> 128\n2002 -> 128\n07d7 + 05 -> 0\n07d7 + 04 -> 0\n07d7 + 03 -> 0\n07d7 + 02 -> 0\n07d7 + 01 -> 0\n07d7 + 00 -> 0\n07ff -> 0\n"
     ]
    },
    {
     "output_type": "error",
     "ename": "IndexError",
     "evalue": "index 37068 is out of bounds for axis 0 with size 8200",
     "traceback": [
      "\u001b[0;31m---------------------------------------------------------------------------\u001b[0m",
      "\u001b[0;31mIndexError\u001b[0m                                Traceback (most recent call last)",
      "\u001b[0;32m<ipython-input-6-c3820b287c5d>\u001b[0m in \u001b[0;36m<module>\u001b[0;34m\u001b[0m\n\u001b[1;32m     56\u001b[0m         \u001b[0;32mif\u001b[0m \u001b[0mf2\u001b[0m \u001b[0;34m==\u001b[0m \u001b[0m_\u001b[0m\u001b[0;34m:\u001b[0m\u001b[0;34m\u001b[0m\u001b[0;34m\u001b[0m\u001b[0m\n\u001b[1;32m     57\u001b[0m             \u001b[0mops\u001b[0m\u001b[0;34m.\u001b[0m\u001b[0mappend\u001b[0m\u001b[0;34m(\u001b[0m\u001b[0;34m[\u001b[0m\u001b[0mindex\u001b[0m\u001b[0;34m,\u001b[0m \u001b[0;34mf'{opcode:02X} {op.__name__} ${data2:02x}{data1:02x} ;{data1*0x0100 + data2:04x}'\u001b[0m\u001b[0;34m]\u001b[0m\u001b[0;34m)\u001b[0m\u001b[0;34m\u001b[0m\u001b[0;34m\u001b[0m\u001b[0m\n\u001b[0;32m---> 58\u001b[0;31m             \u001b[0mop\u001b[0m\u001b[0;34m(\u001b[0m\u001b[0mstate\u001b[0m\u001b[0;34m,\u001b[0m \u001b[0mf1\u001b[0m\u001b[0;34m(\u001b[0m\u001b[0mstate\u001b[0m\u001b[0;34m,\u001b[0m \u001b[0mdata1\u001b[0m\u001b[0;34m,\u001b[0m \u001b[0mdata2\u001b[0m\u001b[0;34m)\u001b[0m\u001b[0;34m,\u001b[0m \u001b[0;36m0\u001b[0m\u001b[0;34m)\u001b[0m\u001b[0;34m\u001b[0m\u001b[0;34m\u001b[0m\u001b[0m\n\u001b[0m\u001b[1;32m     59\u001b[0m \u001b[0;34m\u001b[0m\u001b[0m\n\u001b[1;32m     60\u001b[0m \u001b[0mopcode\u001b[0m \u001b[0;34m=\u001b[0m \u001b[0mstate\u001b[0m\u001b[0;34m[\u001b[0m\u001b[0;34m'ProgramData'\u001b[0m\u001b[0;34m]\u001b[0m\u001b[0;34m[\u001b[0m\u001b[0mstate\u001b[0m\u001b[0;34m[\u001b[0m\u001b[0;34m'ProgramCounter'\u001b[0m\u001b[0;34m]\u001b[0m\u001b[0;34m]\u001b[0m\u001b[0;34m\u001b[0m\u001b[0;34m\u001b[0m\u001b[0m\n",
      "\u001b[0;32m<ipython-input-4-16d6a62842f6>\u001b[0m in \u001b[0;36mabs_read\u001b[0;34m(state, data1, data2)\u001b[0m\n\u001b[1;32m     43\u001b[0m \u001b[0;34m\u001b[0m\u001b[0m\n\u001b[1;32m     44\u001b[0m \u001b[0;32mdef\u001b[0m \u001b[0mabs_read\u001b[0m\u001b[0;34m(\u001b[0m\u001b[0mstate\u001b[0m\u001b[0;34m,\u001b[0m \u001b[0mdata1\u001b[0m\u001b[0;34m,\u001b[0m \u001b[0mdata2\u001b[0m\u001b[0;34m)\u001b[0m\u001b[0;34m:\u001b[0m\u001b[0;34m\u001b[0m\u001b[0;34m\u001b[0m\u001b[0m\n\u001b[0;32m---> 45\u001b[0;31m     \u001b[0mprint\u001b[0m\u001b[0;34m(\u001b[0m\u001b[0;34mf'{data2*256 + data1:04x} -> {state[\"Memory\"][data2*0x0100 + data1]}'\u001b[0m\u001b[0;34m)\u001b[0m\u001b[0;34m\u001b[0m\u001b[0;34m\u001b[0m\u001b[0m\n\u001b[0m\u001b[1;32m     46\u001b[0m \u001b[0;34m\u001b[0m\u001b[0m\n\u001b[1;32m     47\u001b[0m     \u001b[0;32mreturn\u001b[0m \u001b[0mstate\u001b[0m\u001b[0;34m[\u001b[0m\u001b[0;34m'Memory'\u001b[0m\u001b[0;34m]\u001b[0m\u001b[0;34m[\u001b[0m\u001b[0mdata2\u001b[0m\u001b[0;34m*\u001b[0m\u001b[0;36m0x0100\u001b[0m \u001b[0;34m+\u001b[0m \u001b[0mdata1\u001b[0m\u001b[0;34m]\u001b[0m\u001b[0;34m\u001b[0m\u001b[0;34m\u001b[0m\u001b[0m\n",
      "\u001b[0;31mIndexError\u001b[0m: index 37068 is out of bounds for axis 0 with size 8200"
     ]
    }
   ],
   "source": [
    "state = {\n",
    "    'ProgramCounter': 0,\n",
    "    'Accumulator': 0, 'X': 0, 'Y': 0,\n",
    "    'StackRegister': 0,\n",
    "    'StatusRegister': {\n",
    "        'Negative': 0,\n",
    "        'Zero': 0,\n",
    "        'Decimal': 0,\n",
    "        'Interrupt': 0,\n",
    "        'Carry': 0\n",
    "    },\n",
    "    'ProgramData': program_data,\n",
    "    # 'Memory': np.zeros(0x0800, dtype=np.uint8)\n",
    "    'Memory': np.zeros(0x2008, dtype=np.uint8)\n",
    "}\n",
    "\n",
    "ops = []\n",
    "\n",
    "def inc():\n",
    "    opcode = state['ProgramData'][state['ProgramCounter']]\n",
    "    state['ProgramCounter'] += 1\n",
    "\n",
    "    return opcode\n",
    "\n",
    "def pc(): return state['ProgramCounter']\n",
    "\n",
    "def vertical_blank(): state['Memory'][0x2002] = 0x80\n",
    "\n",
    "vertical_blank()\n",
    "\n",
    "for _1 in range(46):\n",
    "    index = pc()\n",
    "\n",
    "    opcode = inc()\n",
    "    \n",
    "    operation = instructions[opcode.item()]\n",
    "\n",
    "    if len(operation) == 1:\n",
    "        op, = operation\n",
    "        op(state, 0, 0)\n",
    "\n",
    "        ops.append([index, f'{opcode:02X} {op.__name__}'])\n",
    "\n",
    "    elif len(operation) == 2:\n",
    "        op, f1 = operation\n",
    "        data = inc()\n",
    "        \n",
    "        op(state, f1(state, data), 0)\n",
    "\n",
    "        ops.append([index, f'{opcode:02X} {op.__name__} .${data:02x}'])\n",
    "\n",
    "    elif len(operation) == 3:\n",
    "        op, f1, f2 = operation\n",
    "        data1, data2 = inc(), inc()\n",
    "        \n",
    "        if f2 == _:\n",
    "            ops.append([index, f'{opcode:02X} {op.__name__} ${data2:02x}{data1:02x} ;{data1*0x0100 + data2:04x}'])\n",
    "            op(state, f1(state, data1, data2), 0)\n",
    "\n",
    "opcode = state['ProgramData'][state['ProgramCounter']]\n",
    "\n",
    "state, opcode.item(), hex(opcode.item())"
   ]
  },
  {
   "cell_type": "code",
   "execution_count": 263,
   "metadata": {},
   "outputs": [
    {
     "output_type": "stream",
     "name": "stdout",
     "text": [
      "\n00 78 SEI\n01 D8 CLD\n02 A9 LDA .$10\n04 8D STA $2000 ;0020\n07 A2 LDX .$ff\n09 9A TXS\n0A AD LDA $2002 ;0220\n0D 10 BPL .$fb\n0F AD LDA $2002 ;0220\n12 10 BPL .$fb\n14 A0 LDY .$fe\n16 A2 LDX .$05\n18 BD LDA $07d7 ;d707\n1B C9 CMP .$0a\n1D B0 BCS .$0c\n1F CA DEX\n20 10 BPL .$f6\n18 BD LDA $07d7 ;d707\n1B C9 CMP .$0a\n1D B0 BCS .$0c\n1F CA DEX\n20 10 BPL .$f6\n18 BD LDA $07d7 ;d707\n1B C9 CMP .$0a\n1D B0 BCS .$0c\n1F CA DEX\n20 10 BPL .$f6\n18 BD LDA $07d7 ;d707\n1B C9 CMP .$0a\n1D B0 BCS .$0c\n1F CA DEX\n20 10 BPL .$f6\n18 BD LDA $07d7 ;d707\n1B C9 CMP .$0a\n1D B0 BCS .$0c\n1F CA DEX\n20 10 BPL .$f6\n18 BD LDA $07d7 ;d707\n1B C9 CMP .$0a\n1D B0 BCS .$0c\n1F CA DEX\n20 10 BPL .$f6\n22 AD LDA $07ff ;ff07\n25 C9 CMP .$a5\n27 D0 BNE .$02\n2B 20 JSR $90cc ;cc90\n\n"
     ]
    }
   ],
   "source": [
    "print('\\n' + '\\n'.join([f'{index:02X} {op}' for index, op in ops]) + '\\n')"
   ]
  },
  {
   "cell_type": "code",
   "execution_count": 7,
   "metadata": {},
   "outputs": [
    {
     "output_type": "execute_result",
     "data": {
      "text/plain": [
       "-10"
      ]
     },
     "metadata": {},
     "execution_count": 7
    }
   ],
   "source": [
    "np.int8(0xF6)"
   ]
  },
  {
   "cell_type": "code",
   "execution_count": null,
   "metadata": {},
   "outputs": [],
   "source": []
  }
 ]
}