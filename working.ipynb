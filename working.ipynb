{
 "metadata": {
  "language_info": {
   "codemirror_mode": {
    "name": "ipython",
    "version": 3
   },
   "file_extension": ".py",
   "mimetype": "text/x-python",
   "name": "python",
   "nbconvert_exporter": "python",
   "pygments_lexer": "ipython3",
   "version": "3.7.7-final"
  },
  "orig_nbformat": 2,
  "kernelspec": {
   "name": "python37764bitz1condae7f2c20f305643b296aa656a2776ff29",
   "display_name": "Python 3.7.7 64-bit ('z1': conda)"
  }
 },
 "nbformat": 4,
 "nbformat_minor": 2,
 "cells": [
  {
   "cell_type": "code",
   "execution_count": null,
   "metadata": {},
   "outputs": [],
   "source": []
  },
  {
   "cell_type": "code",
   "execution_count": null,
   "metadata": {},
   "outputs": [],
   "source": []
  },
  {
   "cell_type": "code",
   "execution_count": null,
   "metadata": {},
   "outputs": [],
   "source": []
  },
  {
   "cell_type": "code",
   "execution_count": null,
   "metadata": {},
   "outputs": [],
   "source": []
  },
  {
   "cell_type": "code",
   "execution_count": 2,
   "metadata": {},
   "outputs": [
    {
     "output_type": "execute_result",
     "data": {
      "text/plain": [
       "tensor([11, 10, 12, 13], dtype=torch.uint8)"
      ]
     },
     "metadata": {},
     "execution_count": 2
    }
   ],
   "source": [
    "import torch\n",
    "\n",
    "t = torch.tensor(range(4), dtype=torch.uint8) + 10\n",
    "z = torch.tensor([[0, 1, 0, 0],\n",
    "                  [1, 0, 0, 0],\n",
    "                  [0, 0, 1, 0],\n",
    "                  [0, 0, 0, 1]], dtype=torch.uint8)\n",
    "\n",
    "t @ z"
   ]
  },
  {
   "cell_type": "code",
   "execution_count": 22,
   "metadata": {},
   "outputs": [],
   "source": [
    "import json\n",
    "import torch\n",
    "import numpy as np\n",
    "\n",
    "with open('data/g.json', 'rb') as file:\n",
    "    data = json.loads(file.read())\n",
    "\n",
    "program_data = torch.tensor(data['Program'], dtype=torch.uint8)\n",
    "character_data = torch.tensor(data['Character'], dtype=torch.uint8)\n",
    "\n",
    "program_data = np.array(data['Program'])"
   ]
  },
  {
   "cell_type": "code",
   "execution_count": 4,
   "metadata": {},
   "outputs": [],
   "source": [
    "def SEI(state, a, b): state['StatusRegister']['Interrupt'] = 1\n",
    "def CLD(state, a, b): state['StatusRegister']['Decimal'] = 0\n",
    "\n",
    "def Z_set(value):\n",
    "    state['StatusRegister']['Zero'] = 1*(value == 0)\n",
    "\n",
    "def N_set(value):\n",
    "    state['StatusRegister']['Negative'] = 1*(value & 0x80 == 0x80)\n",
    "\n",
    "def LDA(state, a, b): state['Accumulator'] = a; Z_set(a); N_set(a)\n",
    "def LDX(state, a, b): state['X'] = a;           Z_set(a); N_set(a)\n",
    "def LDY(state, a, b): state['Y'] = a;           Z_set(a); N_set(a)\n",
    "def DEX(state, a, b): state['X'] -= 1;          Z_set(state['X']); N_set(state['X'])\n",
    "\n",
    "def CMP(state, a, b):\n",
    "    result = state['Accumulator'] - a\n",
    "    Z_set(result); N_set(result)\n",
    "    if a <= state['Accumulator']:\n",
    "        state['StatusRegister']['Carry'] = 1\n",
    "    else:\n",
    "        state['StatusRegister']['Carry'] = 0\n",
    "\n",
    "def STA(state, a, b): state['Memory'][a] = state['Accumulator']\n",
    "def TXS(state, a, b): state['StackRegister'] = state['X']\n",
    "\n",
    "def BPL(state, a, b):\n",
    "    if state['StatusRegister']['Negative'] == 0:\n",
    "        state['ProgramCounter'] += np.int8(a)\n",
    "\n",
    "def BCS(state, a, b):\n",
    "    if state['StatusRegister']['Carry'] == 1:\n",
    "        state['ProgramCounter'] += np.int8(a)\n",
    "\n",
    "def BNE(state, a, b):\n",
    "    if state['StatusRegister']['Zero'] == 0:\n",
    "        state['ProgramCounter'] += np.int8(a)\n",
    "\n",
    "def JSR(state, a, b):\n",
    "    pass\n",
    "\n",
    "def imm(state, data):\n",
    "    return data\n",
    "\n",
    "def abs_read(state, data1, data2):\n",
    "    print(f'{data2*256 + data1:04x} -> {state[\"Memory\"][data2*0x0100 + data1]}')\n",
    "\n",
    "    return state['Memory'][data2*0x0100 + data1]\n",
    "\n",
    "def abs_x_read(state, data1, data2):\n",
    "    x = state['X']\n",
    "    print(f'{data2*256 + data1:04x} + {x:02x} -> {state[\"Memory\"][data2*0x0100 + data1 + x]}')\n",
    "\n",
    "    return state['Memory'][data2*0x0100 + data1 + x]\n"
   ]
  },
  {
   "cell_type": "code",
   "execution_count": 5,
   "metadata": {},
   "outputs": [],
   "source": [
    "\n",
    "_ = lambda x: x\n",
    "\n",
    "instructions = {\n",
    "    0x00: [\"BRK\", [\"imp\"]],\n",
    "    0x01: [\"ORA\", [\"X\", \"ind\"]],\n",
    "    0x10: [BPL, imm],\n",
    "    0x20: [JSR, abs_read, _],\n",
    "    0x78: [SEI],\n",
    "    0x8D: [STA, abs_read, _],\n",
    "    0x9A: [TXS],\n",
    "    0xA0: [LDY, imm],\n",
    "    0xA2: [LDX, imm],\n",
    "    0xA9: [LDA, imm],\n",
    "    0xAD: [LDA, abs_read, _],\n",
    "    0xB0: [BCS, imm],\n",
    "    0xBD: [LDA, abs_x_read, _],\n",
    "    0xC9: [CMP, imm],\n",
    "    0xCA: [DEX],\n",
    "    0xD0: [BNE, imm],\n",
    "    0xD8: [CLD]\n",
    "}"
   ]
  },
  {
   "cell_type": "code",
   "execution_count": 11,
   "metadata": {},
   "outputs": [
    {
     "output_type": "stream",
     "name": "stdout",
     "text": [
      "65536\n2000 -> 0\n2002 -> 128\n2002 -> 128\n07d7 + 05 -> 0\n07d7 + 04 -> 0\n07d7 + 03 -> 0\n07d7 + 02 -> 0\n07d7 + 01 -> 0\n07d7 + 00 -> 0\n07ff -> 0\n90cc -> 162\n4011 -> 0\n"
     ]
    },
    {
     "output_type": "execute_result",
     "data": {
      "text/plain": [
       "('0x8031',\n",
       " {'ProgramCounter': 32817,\n",
       "  'Accumulator': 0,\n",
       "  'X': -1,\n",
       "  'Y': 254,\n",
       "  'StackRegister': 255,\n",
       "  'StatusRegister': {'Negative': 0,\n",
       "   'Zero': 0,\n",
       "   'Decimal': 0,\n",
       "   'Interrupt': 1,\n",
       "   'Carry': 0},\n",
       "  'Memory': array([  0,   0,   0, ..., 128, 240, 255], dtype=uint8)},\n",
       " 141,\n",
       " '0x8d')"
      ]
     },
     "metadata": {},
     "execution_count": 11
    }
   ],
   "source": [
    "state = {\n",
    "    'ProgramCounter': 0,\n",
    "    'Accumulator': 0, 'X': 0, 'Y': 0,\n",
    "    'StackRegister': 0,\n",
    "    'StatusRegister': {\n",
    "        'Negative': 0,\n",
    "        'Zero': 0,\n",
    "        'Decimal': 0,\n",
    "        'Interrupt': 0,\n",
    "        'Carry': 0\n",
    "    }\n",
    "}\n",
    "\n",
    "memory = np.zeros(0x10000, dtype=np.uint8)\n",
    "memory[0x8000:0x8000+len(program_data)] = program_data\n",
    "print(len(memory))\n",
    "\n",
    "state['Memory'] = memory\n",
    "state['ProgramCounter'] = 0x8000\n",
    "\n",
    "ops = []\n",
    "\n",
    "def inc():\n",
    "    opcode = state['Memory'][state['ProgramCounter']]\n",
    "    state['ProgramCounter'] += 1\n",
    "\n",
    "    return opcode\n",
    "\n",
    "def pc(): return state['ProgramCounter']\n",
    "\n",
    "def vertical_blank(): state['Memory'][0x2002] = 0x80\n",
    "\n",
    "vertical_blank()\n",
    "\n",
    "for _1 in range(47):\n",
    "    index = pc()\n",
    "    opcode = inc()\n",
    "\n",
    "    operation = instructions[opcode.item()]\n",
    "\n",
    "    if len(operation) == 1:\n",
    "        op, = operation\n",
    "        op(state, 0, 0)\n",
    "\n",
    "        ops.append([index, f'{opcode:02X} {op.__name__}'])\n",
    "\n",
    "    elif len(operation) == 2:\n",
    "        op, f1 = operation\n",
    "        data = inc()\n",
    "    \n",
    "        ops.append([index, f'{opcode:02X} {op.__name__} .${data:02x}'])\n",
    "        op(state, f1(state, data), 0)\n",
    "\n",
    "    elif len(operation) == 3:\n",
    "        op, f1, f2 = operation\n",
    "        data1, data2 = inc(), inc()\n",
    "        \n",
    "        if f2 == _:\n",
    "            ops.append([index, f'{opcode:02X} {op.__name__} ${data2:02x}{data1:02x} ;{data1*0x0100 + data2:04x}'])\n",
    "            op(state, f1(state, data1, data2), 0)\n",
    "\n",
    "opcode = state['Memory'][state['ProgramCounter']]\n",
    "\n",
    "hex(state['ProgramCounter']), state, opcode.item(), hex(opcode.item())"
   ]
  },
  {
   "cell_type": "code",
   "execution_count": 12,
   "metadata": {},
   "outputs": [
    {
     "output_type": "stream",
     "name": "stdout",
     "text": [
      "\n8000 78 SEI\n8001 D8 CLD\n8002 A9 LDA .$10\n8004 8D STA $2000 ;0020\n8007 A2 LDX .$ff\n8009 9A TXS\n800A AD LDA $2002 ;0220\n800D 10 BPL .$fb\n800F AD LDA $2002 ;0220\n8012 10 BPL .$fb\n8014 A0 LDY .$fe\n8016 A2 LDX .$05\n8018 BD LDA $07d7 ;d707\n801B C9 CMP .$0a\n801D B0 BCS .$0c\n801F CA DEX\n8020 10 BPL .$f6\n8018 BD LDA $07d7 ;d707\n801B C9 CMP .$0a\n801D B0 BCS .$0c\n801F CA DEX\n8020 10 BPL .$f6\n8018 BD LDA $07d7 ;d707\n801B C9 CMP .$0a\n801D B0 BCS .$0c\n801F CA DEX\n8020 10 BPL .$f6\n8018 BD LDA $07d7 ;d707\n801B C9 CMP .$0a\n801D B0 BCS .$0c\n801F CA DEX\n8020 10 BPL .$f6\n8018 BD LDA $07d7 ;d707\n801B C9 CMP .$0a\n801D B0 BCS .$0c\n801F CA DEX\n8020 10 BPL .$f6\n8018 BD LDA $07d7 ;d707\n801B C9 CMP .$0a\n801D B0 BCS .$0c\n801F CA DEX\n8020 10 BPL .$f6\n8022 AD LDA $07ff ;ff07\n8025 C9 CMP .$a5\n8027 D0 BNE .$02\n802B 20 JSR $90cc ;cc90\n802E 8D STA $4011 ;1140\n\n"
     ]
    }
   ],
   "source": [
    "print('\\n' + '\\n'.join([f'{index:02X} {op}' for index, op in ops]) + '\\n')"
   ]
  },
  {
   "cell_type": "code",
   "execution_count": null,
   "metadata": {},
   "outputs": [],
   "source": []
  }
 ]
}